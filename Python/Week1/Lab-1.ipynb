{
 "cells": [
  {
   "cell_type": "markdown",
   "metadata": {},
   "source": [
    "# 1. WAP to convert from Celcius to Farenheit."
   ]
  },
  {
   "cell_type": "code",
   "execution_count": 1,
   "metadata": {
    "slideshow": {
     "slide_type": "notes"
    }
   },
   "outputs": [
    {
     "name": "stdout",
     "output_type": "stream",
     "text": [
      "100.526 degree Celcius is  212.9468 degree Farenheit\n"
     ]
    }
   ],
   "source": [
    "celcius=float(input(\"Enter temperature in Celcius : \"))\n",
    "farenheit=(celcius*1.8)+32\n",
    "print(celcius,\"degree Celcius is \",farenheit,\"degree Farenheit\")"
   ]
  },
  {
   "cell_type": "markdown",
   "metadata": {},
   "source": [
    "# 2. WAP to swap two numbers."
   ]
  },
  {
   "cell_type": "code",
   "execution_count": 2,
   "metadata": {},
   "outputs": [
    {
     "name": "stdout",
     "output_type": "stream",
     "text": [
      "Swapped ...\n",
      "First element :  21 \n",
      "Second Element :  12\n"
     ]
    }
   ],
   "source": [
    "a=int(input(\"Enter first number : \"))\n",
    "b=int(input(\"Enter second number : \"))\n",
    "\n",
    "c=b\n",
    "b=a\n",
    "a=c\n",
    "\n",
    "print(\"Swapped ...\")\n",
    "print(\"First element : \",a,\"\\nSecond Element : \",b)"
   ]
  },
  {
   "cell_type": "markdown",
   "metadata": {},
   "source": [
    "# 3. WAP to check whether a given year is leap year or not"
   ]
  },
  {
   "cell_type": "code",
   "execution_count": 3,
   "metadata": {},
   "outputs": [
    {
     "name": "stdout",
     "output_type": "stream",
     "text": [
      "2024 is a leap year !\n"
     ]
    }
   ],
   "source": [
    "year=int(input(\"Enter a year : \"))\n",
    "if((year%400==0)or(year%4==0 and year%100!=0)):\n",
    "    print(f\"{year} is a leap year !\")\n",
    "else:\n",
    "    print(f\"{year} is NOT a leap year !\")"
   ]
  },
  {
   "cell_type": "markdown",
   "metadata": {},
   "source": [
    "# 4. WAP to display reverse of a number"
   ]
  },
  {
   "cell_type": "code",
   "execution_count": 10,
   "metadata": {},
   "outputs": [
    {
     "name": "stdout",
     "output_type": "stream",
     "text": [
      "The reverse of 1234 is : 4321\n"
     ]
    }
   ],
   "source": [
    "num=int(input(\"Enter a number\"))\n",
    "temp=num\n",
    "reverse=0\n",
    "while(temp>0):\n",
    "    reverse=reverse*10+temp%10\n",
    "    temp=temp//10\n",
    "print(f\"The reverse of {num} is : {reverse}\")"
   ]
  },
  {
   "cell_type": "markdown",
   "metadata": {},
   "source": [
    "# 5. WAP to find factors of a given number."
   ]
  },
  {
   "cell_type": "code",
   "execution_count": 12,
   "metadata": {},
   "outputs": [
    {
     "name": "stdout",
     "output_type": "stream",
     "text": [
      "The factors of the number 20 are : \n",
      "1\n",
      "2\n",
      "4\n",
      "5\n"
     ]
    }
   ],
   "source": [
    "num=int(input(\"Enter a number : \"))\n",
    "print(f\"The factors of the number {num} are : \")\n",
    "for i in range(1,num//2):\n",
    "    if(num%i==0):\n",
    "        print(i)"
   ]
  },
  {
   "cell_type": "markdown",
   "metadata": {},
   "source": [
    "# 6. WAP to generate prime number series upto n"
   ]
  },
  {
   "cell_type": "code",
   "execution_count": 13,
   "metadata": {},
   "outputs": [
    {
     "name": "stdout",
     "output_type": "stream",
     "text": [
      "2\n",
      "3\n",
      "5\n",
      "7\n",
      "11\n"
     ]
    }
   ],
   "source": [
    "def checkPrime(i):\n",
    "    if i in [2,3]:\n",
    "        return True\n",
    "    if i==1 or i%2==0:\n",
    "        return False\n",
    "    r=3\n",
    "    while r*r<=i:\n",
    "        if i%r==0:\n",
    "            return False\n",
    "        r+=2\n",
    "    return True\n",
    "\n",
    "n=int(input(\"Enter value of n : \"))\n",
    "for i in range(1,n):\n",
    "    if checkPrime(i)==True:\n",
    "        print(i)"
   ]
  },
  {
   "cell_type": "markdown",
   "metadata": {},
   "source": [
    "# 7. WAP which makes use of function to display all such numbers which are divisible by 7 but are not a multiple of 5, between 1000 and 2000."
   ]
  },
  {
   "cell_type": "code",
   "execution_count": 16,
   "metadata": {},
   "outputs": [
    {
     "name": "stdout",
     "output_type": "stream",
     "text": [
      "1001\n",
      "1008\n",
      "1022\n",
      "1029\n",
      "1036\n",
      "1043\n",
      "1057\n",
      "1064\n",
      "1071\n",
      "1078\n",
      "1092\n",
      "1099\n",
      "1106\n",
      "1113\n",
      "1127\n",
      "1134\n",
      "1141\n",
      "1148\n",
      "1162\n",
      "1169\n",
      "1176\n",
      "1183\n",
      "1197\n",
      "1204\n",
      "1211\n",
      "1218\n",
      "1232\n",
      "1239\n",
      "1246\n",
      "1253\n",
      "1267\n",
      "1274\n",
      "1281\n",
      "1288\n",
      "1302\n",
      "1309\n",
      "1316\n",
      "1323\n",
      "1337\n",
      "1344\n",
      "1351\n",
      "1358\n",
      "1372\n",
      "1379\n",
      "1386\n",
      "1393\n",
      "1407\n",
      "1414\n",
      "1421\n",
      "1428\n",
      "1442\n",
      "1449\n",
      "1456\n",
      "1463\n",
      "1477\n",
      "1484\n",
      "1491\n",
      "1498\n",
      "1512\n",
      "1519\n",
      "1526\n",
      "1533\n",
      "1547\n",
      "1554\n",
      "1561\n",
      "1568\n",
      "1582\n",
      "1589\n",
      "1596\n",
      "1603\n",
      "1617\n",
      "1624\n",
      "1631\n",
      "1638\n",
      "1652\n",
      "1659\n",
      "1666\n",
      "1673\n",
      "1687\n",
      "1694\n",
      "1701\n",
      "1708\n",
      "1722\n",
      "1729\n",
      "1736\n",
      "1743\n",
      "1757\n",
      "1764\n",
      "1771\n",
      "1778\n",
      "1792\n",
      "1799\n",
      "1806\n",
      "1813\n",
      "1827\n",
      "1834\n",
      "1841\n",
      "1848\n",
      "1862\n",
      "1869\n",
      "1876\n",
      "1883\n",
      "1897\n",
      "1904\n",
      "1911\n",
      "1918\n",
      "1932\n",
      "1939\n",
      "1946\n",
      "1953\n",
      "1967\n",
      "1974\n",
      "1981\n",
      "1988\n"
     ]
    }
   ],
   "source": [
    "def check():\n",
    "    for i in range(1000,2000):\n",
    "        if i%7==0 and i%5!=0:\n",
    "            print(i),\n",
    "\n",
    "check()"
   ]
  },
  {
   "cell_type": "markdown",
   "metadata": {},
   "source": [
    "# 8. WAP to check whether a number is palindrome or not."
   ]
  },
  {
   "cell_type": "code",
   "execution_count": 21,
   "metadata": {},
   "outputs": [
    {
     "name": "stdout",
     "output_type": "stream",
     "text": [
      "Palindrome Number !\n"
     ]
    }
   ],
   "source": [
    "n=int(input(\"Enter a number : \"))\n",
    "temp=n\n",
    "rev=0\n",
    "while temp>0:\n",
    "    rev=rev*10+temp%10\n",
    "    temp//=10\n",
    "if rev==n:\n",
    "    print(\"Palindrome Number !\")\n",
    "else:\n",
    "    print(\"Not Palindrome ...\")"
   ]
  },
  {
   "cell_type": "markdown",
   "metadata": {},
   "source": [
    "# 9. WAP to check whether a)is a perfect number b)is an Armstrong number"
   ]
  },
  {
   "cell_type": "code",
   "execution_count": 24,
   "metadata": {},
   "outputs": [
    {
     "name": "stdout",
     "output_type": "stream",
     "text": [
      "Not a perfect number ......\n",
      "Not Armstrong Number !\n"
     ]
    }
   ],
   "source": [
    "def perfect(num):\n",
    "    sum=0\n",
    "    for i in range (1,num//2):\n",
    "        if(num%i==0):\n",
    "            sum+=i\n",
    "    \n",
    "    if sum==num:\n",
    "        print(\"Perfect Number : \",num)\n",
    "    else:\n",
    "        print(\"Not a perfect number ......\")\n",
    "\n",
    "def armstrong(num):\n",
    "    sum=0\n",
    "    temp=num\n",
    "    length=len(str(num))\n",
    "    while temp>0:\n",
    "        digit=temp%10\n",
    "        sum+=digit**length\n",
    "        temp//=10\n",
    "    if num==sum:\n",
    "        print(\"Armstrong Number !\")\n",
    "    else:\n",
    "        print(\"Not Armstrong Number !\")\n",
    "\n",
    "n=int(input(\"Enter a number\"))\n",
    "perfect(n)\n",
    "armstrong(n)"
   ]
  },
  {
   "cell_type": "markdown",
   "metadata": {},
   "source": [
    "# 10. WAP to generate Fibonacci series upto n."
   ]
  },
  {
   "cell_type": "code",
   "execution_count": 29,
   "metadata": {},
   "outputs": [
    {
     "name": "stdout",
     "output_type": "stream",
     "text": [
      "1\n",
      "1\n",
      "2\n",
      "3\n",
      "5\n",
      "8\n",
      "13\n",
      "21\n"
     ]
    }
   ],
   "source": [
    "num=int(input(\"Enter value of n : \"))\n",
    "previous=1\n",
    "present=1\n",
    "while previous<num:\n",
    "    print(previous),\n",
    "    temp=previous\n",
    "    previous=present\n",
    "    present=temp+present\n"
   ]
  }
 ],
 "metadata": {
  "kernelspec": {
   "display_name": "Python 3",
   "language": "python",
   "name": "python3"
  },
  "language_info": {
   "codemirror_mode": {
    "name": "ipython",
    "version": 3
   },
   "file_extension": ".py",
   "mimetype": "text/x-python",
   "name": "python",
   "nbconvert_exporter": "python",
   "pygments_lexer": "ipython3",
   "version": "3.12.3"
  }
 },
 "nbformat": 4,
 "nbformat_minor": 2
}
