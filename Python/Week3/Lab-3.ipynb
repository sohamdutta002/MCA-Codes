{
 "cells": [
  {
   "cell_type": "markdown",
   "metadata": {},
   "source": [
    "# 1. Write a function called check-season, it takes a month parameter and returns the season: Autumn, Winter, Spring or Summer.  "
   ]
  },
  {
   "cell_type": "code",
   "execution_count": null,
   "metadata": {},
   "outputs": [],
   "source": [
    "def check_season(month):\n",
    "    if month in ['December', 'January', 'February']:\n",
    "        return 'Winter'\n",
    "    elif month in ['March', 'April', 'May']:\n",
    "        return 'Spring'\n",
    "    elif month in ['June', 'July', 'August']:\n",
    "        return 'Summer'\n",
    "    elif month in ['September', 'October', 'November']:\n",
    "        return 'Autumn'\n",
    "    else:\n",
    "        return 'Invalid Month'\n",
    "\n",
    "month = input('Enter the month: ')\n",
    "print(check_season(month))"
   ]
  },
  {
   "cell_type": "markdown",
   "metadata": {},
   "source": [
    "# 2. Write a function called calculate_slope which return the slope of a linear equation"
   ]
  },
  {
   "cell_type": "code",
   "execution_count": null,
   "metadata": {},
   "outputs": [],
   "source": [
    "def calculate_slope(x1, y1, x2, y2):\n",
    "    if x2 == x1:\n",
    "        return 'The slope is infinite'\n",
    "    else:\n",
    "        return (y2-y1)/(x2-x1)\n",
    "\n",
    "x1 = int(input('Enter the value of x1: '))\n",
    "y1 = int(input('Enter the value of y1: '))\n",
    "x2 = int(input('Enter the value of x2: '))\n",
    "y2 = int(input('Enter the value of y2: '))\n",
    "print(calculate_slope(x1, y1, x2, y2))"
   ]
  },
  {
   "cell_type": "markdown",
   "metadata": {},
   "source": [
    "# 3. Quadratic equation is calculated as follows: ax² + bx + c = 0. Write a function which calculates solution set of a quadratic equation, _solve_quadratic_eqn_."
   ]
  },
  {
   "cell_type": "code",
   "execution_count": null,
   "metadata": {},
   "outputs": [],
   "source": [
    "def solve_quadratic_eqn(a, b, c):\n",
    "    d = b**2 - 4*a*c\n",
    "    if d > 0:\n",
    "        x1 = (-b + d**0.5)/(2*a)\n",
    "        x2 = (-b - d**0.5)/(2*a)\n",
    "        return x1, x2\n",
    "    elif d == 0:\n",
    "        x = -b/(2*a)\n",
    "        return x\n",
    "    else:\n",
    "        return 'No real roots'\n",
    "\n",
    "a = int(input('Enter the value of a: '))\n",
    "b = int(input('Enter the value of b: '))\n",
    "c = int(input('Enter the value of c: '))\n",
    "print(solve_quadratic_eqn(a, b, c))"
   ]
  },
  {
   "cell_type": "markdown",
   "metadata": {},
   "source": [
    "# 4. Declare a function named print_list. It takes a list as a parameter and it prints out each element of the list. "
   ]
  },
  {
   "cell_type": "code",
   "execution_count": null,
   "metadata": {},
   "outputs": [],
   "source": [
    "def print_list(lst):\n",
    "    for i in lst:\n",
    "        print(i)\n",
    "    if len(lst) == 0:\n",
    "        print('The list is empty')\n",
    "\n",
    "lst = [1, 2, 3, 4, 5]\n",
    "print_list(lst)"
   ]
  },
  {
   "cell_type": "markdown",
   "metadata": {},
   "source": [
    "# 5. Declare a function named reverse_list. It takes an array as a parameter and it returns the reverse of the array (use loops)."
   ]
  },
  {
   "cell_type": "code",
   "execution_count": null,
   "metadata": {},
   "outputs": [],
   "source": [
    "def reverse_list(lst):\n",
    "    while (len(lst) > 0):\n",
    "        print(lst.pop())\n",
    "\n",
    "lst = [1, 2, 3, 4, 5]\n",
    "reverse_list(lst)"
   ]
  },
  {
   "cell_type": "markdown",
   "metadata": {},
   "source": [
    "# 6. Compute the sum up to n terms in the series 1 - 1/2 + 1/3 - 1/4 + 1/5 -... 1/n where n is a positive integer and input by user."
   ]
  },
  {
   "cell_type": "code",
   "execution_count": null,
   "metadata": {},
   "outputs": [],
   "source": [
    "def sum_series(n):\n",
    "    sum = 0\n",
    "    for i in range(1, n+1):\n",
    "        if i % 2 == 0:\n",
    "            sum -= 1/i\n",
    "        else:\n",
    "            sum += 1/i\n",
    "    return sum\n",
    "\n",
    "n = int(input('Enter the value of n: '))\n",
    "print(sum_series(n))"
   ]
  },
  {
   "cell_type": "markdown",
   "metadata": {},
   "source": [
    "# 7. Write a program to compute sin x for given x. The user should supply x and a positive integer n. We compute the sine of x using the series and the computation should use all terms in the series up through the term involving xn sin x = x - x3/3! + x5/5! - x7/7! + x9/9! ........"
   ]
  },
  {
   "cell_type": "code",
   "execution_count": null,
   "metadata": {},
   "outputs": [],
   "source": [
    "def sin_x(x, n):\n",
    "    sinx = 0\n",
    "    for i in range(1, n+1):\n",
    "        sinx += ((-1)**(i-1))*(x**(2*i-1))/math.factorial(2*i-1)\n",
    "    return sinx\n",
    "\n",
    "import math\n",
    "x = int(input('Enter the value of x: '))\n",
    "n = int(input('Enter the value of n: '))\n",
    "print(sin_x(x, n))"
   ]
  },
  {
   "cell_type": "markdown",
   "metadata": {},
   "source": [
    "# 8. Write a program to compute cosine of x. The user should supply x and a positive integer n. We compute the cosine of x using the series and the computation should use all terms in the series up through the term involving xn cos x = 1 - x2/2! + x4/4! - x6/6! ...."
   ]
  },
  {
   "cell_type": "code",
   "execution_count": null,
   "metadata": {},
   "outputs": [],
   "source": [
    "def cos_x(x, n):\n",
    "    cosx = 0\n",
    "    for i in range(1, n+1):\n",
    "        cosx += ((-1)**(i-1))*(x**(2*i-2))/math.factorial(2*i-2)\n",
    "    return cosx\n",
    "\n",
    "import math\n",
    "x = int(input('Enter the value of x: '))\n",
    "n = int(input('Enter the value of n: '))\n",
    "print(cos_x(x, n))"
   ]
  },
  {
   "cell_type": "code",
   "execution_count": null,
   "metadata": {},
   "outputs": [],
   "source": [
    "#     1\n",
    "#   2 1 2\n",
    "#  3 2 1 2 3\n",
    "# 4 3 2 1 2 3 4"
   ]
  }
 ],
 "metadata": {
  "language_info": {
   "name": "python"
  }
 },
 "nbformat": 4,
 "nbformat_minor": 2
}
