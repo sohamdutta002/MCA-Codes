{
 "cells": [
  {
   "cell_type": "markdown",
   "metadata": {},
   "source": [
    "# 1. To find the sum of square root of any three numbers."
   ]
  },
  {
   "cell_type": "code",
   "execution_count": 1,
   "metadata": {},
   "outputs": [
    {
     "name": "stdout",
     "output_type": "stream",
     "text": [
      "14.16227766016838\n"
     ]
    }
   ],
   "source": [
    "a=int(input(\"Enter first number : \"))\n",
    "b=int(input(\"Enter second number : \"))\n",
    "c=int(input(\"Enter third number : \"))\n",
    "\n",
    "sum=0\n",
    "sum+=a**(0.5)\n",
    "sum+=b**(0.5)\n",
    "sum+=c**(0.5)\n",
    "print(sum)"
   ]
  },
  {
   "cell_type": "markdown",
   "metadata": {},
   "source": [
    "# 2. To solve the quadratic equation."
   ]
  },
  {
   "cell_type": "code",
   "execution_count": 4,
   "metadata": {},
   "outputs": [
    {
     "name": "stdout",
     "output_type": "stream",
     "text": [
      "Equation like : ax^2+bx+c\n",
      "-1.0  and  -1.0\n"
     ]
    }
   ],
   "source": [
    "print(\"Equation like : ax^2+bx+c\")\n",
    "a=int(input(\"Enter value of a : \"))\n",
    "b=int(input(\"Enter value of b : \"))\n",
    "c=int(input(\"Enter value of c : \"))\n",
    "discriminant=(b**2-4*a*c)**(0.5)\n",
    "ans1=discriminant-b\n",
    "ans2=-discriminant-b\n",
    "ans1/=(2*a)\n",
    "ans2/=(2*a)\n",
    "print(ans1,\" and \",ans2)"
   ]
  },
  {
   "cell_type": "markdown",
   "metadata": {},
   "source": [
    "# 3. Find GCD of two numbers."
   ]
  },
  {
   "cell_type": "code",
   "execution_count": 7,
   "metadata": {},
   "outputs": [
    {
     "name": "stdout",
     "output_type": "stream",
     "text": [
      "Their gcd is :  2\n"
     ]
    }
   ],
   "source": [
    "def gcd(a,b):\n",
    "    if b==0:\n",
    "        return abs(a)\n",
    "    else:\n",
    "        return gcd(b,a%b)\n",
    "\n",
    "a=int(input(\"Enter a : \"))\n",
    "b=int(input(\"Enter b : \"))\n",
    "print(\"Their gcd is : \",gcd(a,b))"
   ]
  },
  {
   "cell_type": "markdown",
   "metadata": {},
   "source": [
    "# 4. Compute a)5 to the power of 8 b)square root of 400 c)exponent of 5 d)Logarithm of 625 base 5"
   ]
  },
  {
   "cell_type": "code",
   "execution_count": 8,
   "metadata": {},
   "outputs": [
    {
     "name": "stdout",
     "output_type": "stream",
     "text": [
      "390625\n",
      "20.0\n",
      "148.4131591025766\n",
      "4.0\n"
     ]
    }
   ],
   "source": [
    "import math\n",
    "print(5**8)\n",
    "print(math.sqrt(400))\n",
    "print(math.exp(5))\n",
    "print(math.log(625,5))"
   ]
  },
  {
   "cell_type": "markdown",
   "metadata": {},
   "source": [
    "# 5. Compute a)sin of 60 degree b)cos of pi c)sin(0.8660254037844386) d)tan of 90 degree"
   ]
  },
  {
   "cell_type": "code",
   "execution_count": 9,
   "metadata": {},
   "outputs": [
    {
     "name": "stdout",
     "output_type": "stream",
     "text": [
      "0.8660254037844386\n",
      "-1.0\n",
      "0.7617599814162892\n",
      "1.633123935319537e+16\n"
     ]
    }
   ],
   "source": [
    "print(math.sin(math.radians(60)))\n",
    "print(math.cos(math.pi))\n",
    "print(math.sin(0.8660254037844386))\n",
    "print(math.tan(math.radians(90)))"
   ]
  },
  {
   "cell_type": "markdown",
   "metadata": {},
   "source": [
    "# 6. Define a sum function with two parameters and call the function."
   ]
  },
  {
   "cell_type": "code",
   "execution_count": 10,
   "metadata": {},
   "outputs": [
    {
     "name": "stdout",
     "output_type": "stream",
     "text": [
      "6\n"
     ]
    }
   ],
   "source": [
    "def sum(a,b):\n",
    "    return a+b\n",
    "\n",
    "print(sum(2,4))"
   ]
  },
  {
   "cell_type": "markdown",
   "metadata": {},
   "source": [
    "# 7. WAP to reverse a given string."
   ]
  },
  {
   "cell_type": "code",
   "execution_count": 11,
   "metadata": {},
   "outputs": [
    {
     "name": "stdout",
     "output_type": "stream",
     "text": [
      "The reverse of slice is : ecils\n"
     ]
    }
   ],
   "source": [
    "txt=input(\"Enter a string : \")\n",
    "reverse=txt[::-1]\n",
    "print(f\"The reverse of {txt} is : {reverse}\")"
   ]
  },
  {
   "cell_type": "markdown",
   "metadata": {},
   "source": [
    "# 8. Write a function to calculate the power of a number using recursion."
   ]
  },
  {
   "cell_type": "code",
   "execution_count": 12,
   "metadata": {},
   "outputs": [
    {
     "name": "stdout",
     "output_type": "stream",
     "text": [
      "64\n"
     ]
    }
   ],
   "source": [
    "def power(num,times):\n",
    "    if times==0:\n",
    "        return 1\n",
    "    return num*power(num,times-1)\n",
    "\n",
    "n=int(input(\"Enter a number : \"))\n",
    "t=int(input(\"Enter its exponent : \"))\n",
    "print(power(n,t))"
   ]
  },
  {
   "cell_type": "markdown",
   "metadata": {},
   "source": [
    "# 9. Convert Decimal number to Binary."
   ]
  },
  {
   "cell_type": "code",
   "execution_count": 16,
   "metadata": {},
   "outputs": [
    {
     "name": "stdout",
     "output_type": "stream",
     "text": [
      "1100  is the binary representation of  12\n"
     ]
    }
   ],
   "source": [
    "num=int(input(\"Enter decimal number : \"))\n",
    "temp=num\n",
    "ans=\"\"\n",
    "while(num>0):\n",
    "    digit=num%2\n",
    "    num//=2\n",
    "    ans+=str(digit)\n",
    "reverse=ans[::-1]\n",
    "print(reverse,\" is the binary representation of \",temp)"
   ]
  },
  {
   "cell_type": "markdown",
   "metadata": {},
   "source": [
    "# 10. Write a program in Python to check if a number is Krishnamurthy number."
   ]
  },
  {
   "cell_type": "code",
   "execution_count": 17,
   "metadata": {},
   "outputs": [
    {
     "name": "stdout",
     "output_type": "stream",
     "text": [
      "145  is a Krishnamurthy Number ...\n"
     ]
    }
   ],
   "source": [
    "num=int(input(\"Enter a number : \"))\n",
    "\n",
    "def fact(n):\n",
    "    if n==1:\n",
    "        return 1\n",
    "    else:\n",
    "        return n*fact(n-1)\n",
    "    \n",
    "temp=num\n",
    "sum=0\n",
    "while(num>0):\n",
    "    digit=num%10\n",
    "    num//=10\n",
    "    sum+=fact(digit)\n",
    "\n",
    "if(temp==sum):\n",
    "    print(temp,\" is a Krishnamurthy Number ...\")\n",
    "else:\n",
    "    print(\"Not a Krishnamurthy Number...\")"
   ]
  },
  {
   "cell_type": "markdown",
   "metadata": {},
   "source": [
    "# 11. Write a program in Python to find the sum of digits of a number."
   ]
  },
  {
   "cell_type": "code",
   "execution_count": 18,
   "metadata": {},
   "outputs": [
    {
     "name": "stdout",
     "output_type": "stream",
     "text": [
      "Sum of digits of  234  is :  9\n"
     ]
    }
   ],
   "source": [
    "num=int(input(\"Enter a number : \"))\n",
    "sum=0\n",
    "temp=num\n",
    "while num>0:\n",
    "    sum+=num%10\n",
    "    num//=10\n",
    "print(\"Sum of digits of \",temp,\" is : \",sum)"
   ]
  },
  {
   "cell_type": "markdown",
   "metadata": {},
   "source": [
    "# 12. Write a program in Python that prompts the user to input a number and prints its multiplication table."
   ]
  },
  {
   "cell_type": "code",
   "execution_count": 20,
   "metadata": {},
   "outputs": [
    {
     "name": "stdout",
     "output_type": "stream",
     "text": [
      "5 x 1 = 5\n",
      "5 x 2 = 10\n",
      "5 x 3 = 15\n",
      "5 x 4 = 20\n",
      "5 x 5 = 25\n",
      "5 x 6 = 30\n",
      "5 x 7 = 35\n",
      "5 x 8 = 40\n",
      "5 x 9 = 45\n",
      "5 x 10 = 50\n"
     ]
    }
   ],
   "source": [
    "num=int(input(\"Enter a number : \"))\n",
    "for i in range(1,11):\n",
    "    print(f\"{num} x {i} = {num*i}\")"
   ]
  },
  {
   "cell_type": "markdown",
   "metadata": {},
   "source": [
    "# 13. Write a Python program to print rhe first 6 terms of a geometric sequence starting with 2 and having a common ratio of 3."
   ]
  },
  {
   "cell_type": "code",
   "execution_count": 24,
   "metadata": {},
   "outputs": [
    {
     "name": "stdout",
     "output_type": "stream",
     "text": [
      "2, 6, 18, 54, 162, 486, \n"
     ]
    }
   ],
   "source": [
    "n=6\n",
    "a=2\n",
    "r=3\n",
    "ans=\"\"\n",
    "for i in range(1,n+1):\n",
    "    ans+=str(a*(r**(i-1)))\n",
    "    ans+=\", \"\n",
    "print(ans)"
   ]
  },
  {
   "cell_type": "markdown",
   "metadata": {},
   "source": [
    "# 14. Print the series upto N terms: 1,2,6,24,120,720 ..."
   ]
  },
  {
   "cell_type": "code",
   "execution_count": 27,
   "metadata": {},
   "outputs": [
    {
     "name": "stdout",
     "output_type": "stream",
     "text": [
      "1, 2, 6, 24, 120, 720, \n"
     ]
    }
   ],
   "source": [
    "n=int(input(\"Enter value of n : \"))\n",
    "a=1\n",
    "ans=\"1, \"\n",
    "for i in range(2,n+1):\n",
    "    a*=i\n",
    "    ans+=str(a)\n",
    "    ans+=\", \"\n",
    "print(ans)"
   ]
  },
  {
   "cell_type": "markdown",
   "metadata": {},
   "source": [
    "# 15. Write a Python program that prompts the user to enter a base number and an exponent and then calculates the power of the base to the exponent. The program should not use rhe exponentiation operatior (**) or the math.pow() function."
   ]
  },
  {
   "cell_type": "code",
   "execution_count": 29,
   "metadata": {},
   "outputs": [
    {
     "name": "stdout",
     "output_type": "stream",
     "text": [
      "16\n"
     ]
    }
   ],
   "source": [
    "base=int(input(\"Enter base : \"))\n",
    "exp=int(input(\"Enter exponent : \"))\n",
    "\n",
    "if exp==0:\n",
    "    print(\"1\")\n",
    "ans=1\n",
    "while exp>0:\n",
    "    ans*=base\n",
    "    exp-=1\n",
    "print(ans)"
   ]
  }
 ],
 "metadata": {
  "kernelspec": {
   "display_name": "Python 3",
   "language": "python",
   "name": "python3"
  },
  "language_info": {
   "codemirror_mode": {
    "name": "ipython",
    "version": 3
   },
   "file_extension": ".py",
   "mimetype": "text/x-python",
   "name": "python",
   "nbconvert_exporter": "python",
   "pygments_lexer": "ipython3",
   "version": "3.12.3"
  }
 },
 "nbformat": 4,
 "nbformat_minor": 2
}
